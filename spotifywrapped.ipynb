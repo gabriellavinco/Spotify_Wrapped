{
 "cells": [
  {
   "cell_type": "code",
   "execution_count": 1,
   "metadata": {},
   "outputs": [],
   "source": [
    "import json\n",
    "import os\n",
    "import pandas as pd\n",
    "import numpy as np\n",
    "import seaborn as sns\n",
    "import matplotlib.pyplot as plt\n",
    "from matplotlib.dates import DateFormatter\n",
    "import matplotlib.cm as cm\n",
    "import matplotlib.dates as mdates\n",
    "import matplotlib.cbook as cbook\n",
    "from matplotlib.pyplot import figure\n",
    "from pandas.io.json import json_normalize"
   ]
  },
  {
   "cell_type": "code",
   "execution_count": 2,
   "metadata": {},
   "outputs": [
    {
     "name": "stdout",
     "output_type": "stream",
     "text": [
      "./data/StreamingHistory0.json\n"
     ]
    },
    {
     "data": {
      "text/html": [
       "<div>\n",
       "<style scoped>\n",
       "    .dataframe tbody tr th:only-of-type {\n",
       "        vertical-align: middle;\n",
       "    }\n",
       "\n",
       "    .dataframe tbody tr th {\n",
       "        vertical-align: top;\n",
       "    }\n",
       "\n",
       "    .dataframe thead th {\n",
       "        text-align: right;\n",
       "    }\n",
       "</style>\n",
       "<table border=\"1\" class=\"dataframe\">\n",
       "  <thead>\n",
       "    <tr style=\"text-align: right;\">\n",
       "      <th></th>\n",
       "      <th>artistName</th>\n",
       "      <th>endTime</th>\n",
       "      <th>msPlayed</th>\n",
       "      <th>trackName</th>\n",
       "    </tr>\n",
       "  </thead>\n",
       "  <tbody>\n",
       "    <tr>\n",
       "      <th>0</th>\n",
       "      <td>Sia</td>\n",
       "      <td>2018-12-07 01:20</td>\n",
       "      <td>151069</td>\n",
       "      <td>Elastic Heart - Live from The Village</td>\n",
       "    </tr>\n",
       "    <tr>\n",
       "      <th>1</th>\n",
       "      <td>Russ</td>\n",
       "      <td>2018-12-07 01:22</td>\n",
       "      <td>74443</td>\n",
       "      <td>Ride Slow</td>\n",
       "    </tr>\n",
       "    <tr>\n",
       "      <th>2</th>\n",
       "      <td>Nathaniel Rateliff &amp; The Night Sweats</td>\n",
       "      <td>2018-12-07 01:22</td>\n",
       "      <td>37546</td>\n",
       "      <td>S.O.B.</td>\n",
       "    </tr>\n",
       "    <tr>\n",
       "      <th>3</th>\n",
       "      <td>Lady Gaga</td>\n",
       "      <td>2018-12-07 01:26</td>\n",
       "      <td>220693</td>\n",
       "      <td>Teeth</td>\n",
       "    </tr>\n",
       "    <tr>\n",
       "      <th>4</th>\n",
       "      <td>Tyga</td>\n",
       "      <td>2018-12-07 01:27</td>\n",
       "      <td>56447</td>\n",
       "      <td>Taste (feat. Offset)</td>\n",
       "    </tr>\n",
       "  </tbody>\n",
       "</table>\n",
       "</div>"
      ],
      "text/plain": [
       "                              artistName           endTime  msPlayed  \\\n",
       "0                                    Sia  2018-12-07 01:20    151069   \n",
       "1                                   Russ  2018-12-07 01:22     74443   \n",
       "2  Nathaniel Rateliff & The Night Sweats  2018-12-07 01:22     37546   \n",
       "3                              Lady Gaga  2018-12-07 01:26    220693   \n",
       "4                                   Tyga  2018-12-07 01:27     56447   \n",
       "\n",
       "                               trackName  \n",
       "0  Elastic Heart - Live from The Village  \n",
       "1                              Ride Slow  \n",
       "2                                 S.O.B.  \n",
       "3                                  Teeth  \n",
       "4                   Taste (feat. Offset)  "
      ]
     },
     "execution_count": 2,
     "metadata": {},
     "output_type": "execute_result"
    }
   ],
   "source": [
    "# Load JSON Streaming History Part 1\n",
    "filepath = os.path.join(\".\", \"data\", \"StreamingHistory0.json\")\n",
    "print(filepath)\n",
    "with open(filepath) as jsonfile:\n",
    "    json_data0 = json.load(jsonfile)\n",
    "\n",
    "musicdf = pd.DataFrame.from_dict(json_normalize(json_data0), orient='columns')\n",
    "musicdf.head()"
   ]
  },
  {
   "cell_type": "code",
   "execution_count": 3,
   "metadata": {},
   "outputs": [
    {
     "name": "stdout",
     "output_type": "stream",
     "text": [
      "./data/StreamingHistory1.json\n"
     ]
    },
    {
     "data": {
      "text/html": [
       "<div>\n",
       "<style scoped>\n",
       "    .dataframe tbody tr th:only-of-type {\n",
       "        vertical-align: middle;\n",
       "    }\n",
       "\n",
       "    .dataframe tbody tr th {\n",
       "        vertical-align: top;\n",
       "    }\n",
       "\n",
       "    .dataframe thead th {\n",
       "        text-align: right;\n",
       "    }\n",
       "</style>\n",
       "<table border=\"1\" class=\"dataframe\">\n",
       "  <thead>\n",
       "    <tr style=\"text-align: right;\">\n",
       "      <th></th>\n",
       "      <th>artistName</th>\n",
       "      <th>endTime</th>\n",
       "      <th>msPlayed</th>\n",
       "      <th>trackName</th>\n",
       "    </tr>\n",
       "  </thead>\n",
       "  <tbody>\n",
       "    <tr>\n",
       "      <th>0</th>\n",
       "      <td>The Notorious B.I.G.</td>\n",
       "      <td>2019-03-15 19:34</td>\n",
       "      <td>1770</td>\n",
       "      <td>Ready to Die - 2006 Remaster</td>\n",
       "    </tr>\n",
       "    <tr>\n",
       "      <th>1</th>\n",
       "      <td>2Pac</td>\n",
       "      <td>2019-03-15 19:35</td>\n",
       "      <td>8618</td>\n",
       "      <td>All Eyez On Me</td>\n",
       "    </tr>\n",
       "    <tr>\n",
       "      <th>2</th>\n",
       "      <td>2Pac</td>\n",
       "      <td>2019-03-15 19:35</td>\n",
       "      <td>1023</td>\n",
       "      <td>All Eyez On Me</td>\n",
       "    </tr>\n",
       "    <tr>\n",
       "      <th>3</th>\n",
       "      <td>2Pac</td>\n",
       "      <td>2019-03-15 19:35</td>\n",
       "      <td>0</td>\n",
       "      <td>Ambitionz Az A Ridah</td>\n",
       "    </tr>\n",
       "    <tr>\n",
       "      <th>4</th>\n",
       "      <td>2Pac</td>\n",
       "      <td>2019-03-15 19:39</td>\n",
       "      <td>259434</td>\n",
       "      <td>Ambitionz Az A Ridah</td>\n",
       "    </tr>\n",
       "  </tbody>\n",
       "</table>\n",
       "</div>"
      ],
      "text/plain": [
       "             artistName           endTime  msPlayed  \\\n",
       "0  The Notorious B.I.G.  2019-03-15 19:34      1770   \n",
       "1                  2Pac  2019-03-15 19:35      8618   \n",
       "2                  2Pac  2019-03-15 19:35      1023   \n",
       "3                  2Pac  2019-03-15 19:35         0   \n",
       "4                  2Pac  2019-03-15 19:39    259434   \n",
       "\n",
       "                      trackName  \n",
       "0  Ready to Die - 2006 Remaster  \n",
       "1                All Eyez On Me  \n",
       "2                All Eyez On Me  \n",
       "3          Ambitionz Az A Ridah  \n",
       "4          Ambitionz Az A Ridah  "
      ]
     },
     "execution_count": 3,
     "metadata": {},
     "output_type": "execute_result"
    }
   ],
   "source": [
    "# Load JSON Streaming History Part 2\n",
    "filepath = os.path.join(\".\",\"data\", \"StreamingHistory1.json\")\n",
    "print(filepath)\n",
    "with open(filepath) as jsonfile:\n",
    "    json_data1 = json.load(jsonfile)\n",
    "\n",
    "music1df = pd.DataFrame.from_dict(json_normalize(json_data1), orient='columns')\n",
    "music1df.head()"
   ]
  },
  {
   "cell_type": "code",
   "execution_count": 4,
   "metadata": {},
   "outputs": [
    {
     "name": "stdout",
     "output_type": "stream",
     "text": [
      "./data/StreamingHistory2.json\n"
     ]
    },
    {
     "data": {
      "text/html": [
       "<div>\n",
       "<style scoped>\n",
       "    .dataframe tbody tr th:only-of-type {\n",
       "        vertical-align: middle;\n",
       "    }\n",
       "\n",
       "    .dataframe tbody tr th {\n",
       "        vertical-align: top;\n",
       "    }\n",
       "\n",
       "    .dataframe thead th {\n",
       "        text-align: right;\n",
       "    }\n",
       "</style>\n",
       "<table border=\"1\" class=\"dataframe\">\n",
       "  <thead>\n",
       "    <tr style=\"text-align: right;\">\n",
       "      <th></th>\n",
       "      <th>artistName</th>\n",
       "      <th>endTime</th>\n",
       "      <th>msPlayed</th>\n",
       "      <th>trackName</th>\n",
       "    </tr>\n",
       "  </thead>\n",
       "  <tbody>\n",
       "    <tr>\n",
       "      <th>0</th>\n",
       "      <td>Tiësto</td>\n",
       "      <td>2019-07-12 17:43</td>\n",
       "      <td>47210</td>\n",
       "      <td>Jackie Chan</td>\n",
       "    </tr>\n",
       "    <tr>\n",
       "      <th>1</th>\n",
       "      <td>mansionz</td>\n",
       "      <td>2019-07-12 17:43</td>\n",
       "      <td>3349</td>\n",
       "      <td>STFU</td>\n",
       "    </tr>\n",
       "    <tr>\n",
       "      <th>2</th>\n",
       "      <td>Rival</td>\n",
       "      <td>2019-07-12 17:43</td>\n",
       "      <td>7701</td>\n",
       "      <td>Seasons</td>\n",
       "    </tr>\n",
       "    <tr>\n",
       "      <th>3</th>\n",
       "      <td>Louis The Child</td>\n",
       "      <td>2019-07-12 17:44</td>\n",
       "      <td>1408</td>\n",
       "      <td>Slow Down Love (feat. Chelsea Cutler)</td>\n",
       "    </tr>\n",
       "    <tr>\n",
       "      <th>4</th>\n",
       "      <td>Sia</td>\n",
       "      <td>2019-07-12 17:44</td>\n",
       "      <td>895</td>\n",
       "      <td>Thunderclouds (feat. Sia, Diplo, and Labrinth)</td>\n",
       "    </tr>\n",
       "  </tbody>\n",
       "</table>\n",
       "</div>"
      ],
      "text/plain": [
       "        artistName           endTime  msPlayed  \\\n",
       "0           Tiësto  2019-07-12 17:43     47210   \n",
       "1         mansionz  2019-07-12 17:43      3349   \n",
       "2            Rival  2019-07-12 17:43      7701   \n",
       "3  Louis The Child  2019-07-12 17:44      1408   \n",
       "4              Sia  2019-07-12 17:44       895   \n",
       "\n",
       "                                        trackName  \n",
       "0                                     Jackie Chan  \n",
       "1                                            STFU  \n",
       "2                                         Seasons  \n",
       "3           Slow Down Love (feat. Chelsea Cutler)  \n",
       "4  Thunderclouds (feat. Sia, Diplo, and Labrinth)  "
      ]
     },
     "execution_count": 4,
     "metadata": {},
     "output_type": "execute_result"
    }
   ],
   "source": [
    "# Load JSON Streaming History Part 3\n",
    "filepath = os.path.join(\".\", \"data\", \"StreamingHistory2.json\")\n",
    "print(filepath)\n",
    "with open(filepath) as jsonfile:\n",
    "    json_data2 = json.load(jsonfile)\n",
    "\n",
    "music2df = pd.DataFrame.from_dict(json_normalize(json_data2), orient='columns')\n",
    "music2df.head()"
   ]
  },
  {
   "cell_type": "code",
   "execution_count": 5,
   "metadata": {},
   "outputs": [],
   "source": [
    "# Setting all 3 data frames to a variable\n",
    "frames = [musicdf, music1df, music2df]"
   ]
  },
  {
   "cell_type": "code",
   "execution_count": 6,
   "metadata": {},
   "outputs": [],
   "source": [
    "# Creating a new dataframe based on the variable with the combined data\n",
    "all_music_df = pd.concat(frames)"
   ]
  },
  {
   "cell_type": "code",
   "execution_count": 7,
   "metadata": {},
   "outputs": [
    {
     "data": {
      "text/plain": [
       "29259"
      ]
     },
     "execution_count": 7,
     "metadata": {},
     "output_type": "execute_result"
    }
   ],
   "source": [
    "# Total number of tracks played this year\n",
    "song_count = all_music_df['trackName'].count()\n",
    "song_count"
   ]
  },
  {
   "cell_type": "code",
   "execution_count": 8,
   "metadata": {},
   "outputs": [
    {
     "data": {
      "text/plain": [
       "46213.3288"
      ]
     },
     "execution_count": 8,
     "metadata": {},
     "output_type": "execute_result"
    }
   ],
   "source": [
    "# Amount of Spotify played this year in minutes\n",
    "ms = all_music_df['msPlayed'].sum()\n",
    "mins_played = ms/60000\n",
    "mins_played"
   ]
  },
  {
   "cell_type": "code",
   "execution_count": 9,
   "metadata": {},
   "outputs": [
    {
     "data": {
      "text/html": [
       "<div>\n",
       "<style scoped>\n",
       "    .dataframe tbody tr th:only-of-type {\n",
       "        vertical-align: middle;\n",
       "    }\n",
       "\n",
       "    .dataframe tbody tr th {\n",
       "        vertical-align: top;\n",
       "    }\n",
       "\n",
       "    .dataframe thead th {\n",
       "        text-align: right;\n",
       "    }\n",
       "</style>\n",
       "<table border=\"1\" class=\"dataframe\">\n",
       "  <thead>\n",
       "    <tr style=\"text-align: right;\">\n",
       "      <th></th>\n",
       "      <th>artistName</th>\n",
       "      <th>endTime</th>\n",
       "      <th>msPlayed</th>\n",
       "      <th>trackName</th>\n",
       "    </tr>\n",
       "  </thead>\n",
       "  <tbody>\n",
       "    <tr>\n",
       "      <th>0</th>\n",
       "      <td>Sia</td>\n",
       "      <td>2018-12-07 01:20</td>\n",
       "      <td>151069</td>\n",
       "      <td>Elastic Heart - Live from The Village</td>\n",
       "    </tr>\n",
       "    <tr>\n",
       "      <th>1</th>\n",
       "      <td>Russ</td>\n",
       "      <td>2018-12-07 01:22</td>\n",
       "      <td>74443</td>\n",
       "      <td>Ride Slow</td>\n",
       "    </tr>\n",
       "    <tr>\n",
       "      <th>2</th>\n",
       "      <td>Nathaniel Rateliff &amp; The Night Sweats</td>\n",
       "      <td>2018-12-07 01:22</td>\n",
       "      <td>37546</td>\n",
       "      <td>S.O.B.</td>\n",
       "    </tr>\n",
       "    <tr>\n",
       "      <th>3</th>\n",
       "      <td>Lady Gaga</td>\n",
       "      <td>2018-12-07 01:26</td>\n",
       "      <td>220693</td>\n",
       "      <td>Teeth</td>\n",
       "    </tr>\n",
       "    <tr>\n",
       "      <th>4</th>\n",
       "      <td>Tyga</td>\n",
       "      <td>2018-12-07 01:27</td>\n",
       "      <td>56447</td>\n",
       "      <td>Taste (feat. Offset)</td>\n",
       "    </tr>\n",
       "  </tbody>\n",
       "</table>\n",
       "</div>"
      ],
      "text/plain": [
       "                              artistName           endTime  msPlayed  \\\n",
       "0                                    Sia  2018-12-07 01:20    151069   \n",
       "1                                   Russ  2018-12-07 01:22     74443   \n",
       "2  Nathaniel Rateliff & The Night Sweats  2018-12-07 01:22     37546   \n",
       "3                              Lady Gaga  2018-12-07 01:26    220693   \n",
       "4                                   Tyga  2018-12-07 01:27     56447   \n",
       "\n",
       "                               trackName  \n",
       "0  Elastic Heart - Live from The Village  \n",
       "1                              Ride Slow  \n",
       "2                                 S.O.B.  \n",
       "3                                  Teeth  \n",
       "4                   Taste (feat. Offset)  "
      ]
     },
     "execution_count": 9,
     "metadata": {},
     "output_type": "execute_result"
    }
   ],
   "source": [
    "# Duplicating dataframe to make changes and customizations on\n",
    "music_sum_df = all_music_df\n",
    "music_sum_df.head()"
   ]
  },
  {
   "cell_type": "code",
   "execution_count": 10,
   "metadata": {},
   "outputs": [],
   "source": [
    "# Dropping time stamp\n",
    "music_sum_df = music_sum_df.drop(['endTime'], axis=1)"
   ]
  },
  {
   "cell_type": "code",
   "execution_count": 11,
   "metadata": {},
   "outputs": [],
   "source": [
    "# Renaming columns\n",
    "music_sum_df = music_sum_df.rename(columns={\"artistName\": \"Artist\", \"msPlayed\": \"MS_played\", \"trackName\":\"Track\"})"
   ]
  },
  {
   "cell_type": "code",
   "execution_count": 12,
   "metadata": {},
   "outputs": [],
   "source": [
    "# Sorting by artist alphabetically\n",
    "music_sum_df = music_sum_df.sort_values(by=['Artist'])"
   ]
  },
  {
   "cell_type": "code",
   "execution_count": 13,
   "metadata": {},
   "outputs": [
    {
     "data": {
      "text/html": [
       "<div>\n",
       "<style scoped>\n",
       "    .dataframe tbody tr th:only-of-type {\n",
       "        vertical-align: middle;\n",
       "    }\n",
       "\n",
       "    .dataframe tbody tr th {\n",
       "        vertical-align: top;\n",
       "    }\n",
       "\n",
       "    .dataframe thead th {\n",
       "        text-align: right;\n",
       "    }\n",
       "</style>\n",
       "<table border=\"1\" class=\"dataframe\">\n",
       "  <thead>\n",
       "    <tr style=\"text-align: right;\">\n",
       "      <th></th>\n",
       "      <th>Artist</th>\n",
       "      <th>MS_played</th>\n",
       "    </tr>\n",
       "  </thead>\n",
       "  <tbody>\n",
       "    <tr>\n",
       "      <th>2339</th>\n",
       "      <td>\"Fiddler On The Roof” Motion Picture Chorus</td>\n",
       "      <td>405</td>\n",
       "    </tr>\n",
       "    <tr>\n",
       "      <th>3157</th>\n",
       "      <td>$uicideBoy$</td>\n",
       "      <td>789</td>\n",
       "    </tr>\n",
       "    <tr>\n",
       "      <th>1517</th>\n",
       "      <td>'68</td>\n",
       "      <td>19783</td>\n",
       "    </tr>\n",
       "    <tr>\n",
       "      <th>6208</th>\n",
       "      <td>*NSYNC</td>\n",
       "      <td>1044</td>\n",
       "    </tr>\n",
       "    <tr>\n",
       "      <th>6477</th>\n",
       "      <td>*NSYNC</td>\n",
       "      <td>1045</td>\n",
       "    </tr>\n",
       "  </tbody>\n",
       "</table>\n",
       "</div>"
      ],
      "text/plain": [
       "                                           Artist  MS_played\n",
       "2339  \"Fiddler On The Roof” Motion Picture Chorus        405\n",
       "3157                                  $uicideBoy$        789\n",
       "1517                                          '68      19783\n",
       "6208                                       *NSYNC       1044\n",
       "6477                                       *NSYNC       1045"
      ]
     },
     "execution_count": 13,
     "metadata": {},
     "output_type": "execute_result"
    }
   ],
   "source": [
    "# Dropping track to only examine artist and time\n",
    "top_artist_df = music_sum_df\n",
    "top_artist_df = top_artist_df.drop(['Track'], axis=1)\n",
    "top_artist_df.head()"
   ]
  },
  {
   "cell_type": "code",
   "execution_count": 14,
   "metadata": {},
   "outputs": [
    {
     "data": {
      "text/html": [
       "<div>\n",
       "<style scoped>\n",
       "    .dataframe tbody tr th:only-of-type {\n",
       "        vertical-align: middle;\n",
       "    }\n",
       "\n",
       "    .dataframe tbody tr th {\n",
       "        vertical-align: top;\n",
       "    }\n",
       "\n",
       "    .dataframe thead th {\n",
       "        text-align: right;\n",
       "    }\n",
       "</style>\n",
       "<table border=\"1\" class=\"dataframe\">\n",
       "  <thead>\n",
       "    <tr style=\"text-align: right;\">\n",
       "      <th></th>\n",
       "      <th>Artist</th>\n",
       "      <th>MS_played</th>\n",
       "      <th>Minutes_played</th>\n",
       "    </tr>\n",
       "  </thead>\n",
       "  <tbody>\n",
       "    <tr>\n",
       "      <th>2339</th>\n",
       "      <td>\"Fiddler On The Roof” Motion Picture Chorus</td>\n",
       "      <td>405</td>\n",
       "      <td>0.006750</td>\n",
       "    </tr>\n",
       "    <tr>\n",
       "      <th>3157</th>\n",
       "      <td>$uicideBoy$</td>\n",
       "      <td>789</td>\n",
       "      <td>0.013150</td>\n",
       "    </tr>\n",
       "    <tr>\n",
       "      <th>1517</th>\n",
       "      <td>'68</td>\n",
       "      <td>19783</td>\n",
       "      <td>0.329717</td>\n",
       "    </tr>\n",
       "    <tr>\n",
       "      <th>6208</th>\n",
       "      <td>*NSYNC</td>\n",
       "      <td>1044</td>\n",
       "      <td>0.017400</td>\n",
       "    </tr>\n",
       "    <tr>\n",
       "      <th>6477</th>\n",
       "      <td>*NSYNC</td>\n",
       "      <td>1045</td>\n",
       "      <td>0.017417</td>\n",
       "    </tr>\n",
       "  </tbody>\n",
       "</table>\n",
       "</div>"
      ],
      "text/plain": [
       "                                           Artist  MS_played  Minutes_played\n",
       "2339  \"Fiddler On The Roof” Motion Picture Chorus        405        0.006750\n",
       "3157                                  $uicideBoy$        789        0.013150\n",
       "1517                                          '68      19783        0.329717\n",
       "6208                                       *NSYNC       1044        0.017400\n",
       "6477                                       *NSYNC       1045        0.017417"
      ]
     },
     "execution_count": 14,
     "metadata": {},
     "output_type": "execute_result"
    }
   ],
   "source": [
    "# changing ms to minutes played\n",
    "top_artist_df['Minutes_played']= top_artist_df['MS_played']/60000\n",
    "top_artist_df.head()"
   ]
  },
  {
   "cell_type": "code",
   "execution_count": 15,
   "metadata": {},
   "outputs": [
    {
     "data": {
      "text/html": [
       "<div>\n",
       "<style scoped>\n",
       "    .dataframe tbody tr th:only-of-type {\n",
       "        vertical-align: middle;\n",
       "    }\n",
       "\n",
       "    .dataframe tbody tr th {\n",
       "        vertical-align: top;\n",
       "    }\n",
       "\n",
       "    .dataframe thead th {\n",
       "        text-align: right;\n",
       "    }\n",
       "</style>\n",
       "<table border=\"1\" class=\"dataframe\">\n",
       "  <thead>\n",
       "    <tr style=\"text-align: right;\">\n",
       "      <th></th>\n",
       "      <th>MS_played</th>\n",
       "      <th>Minutes_played</th>\n",
       "    </tr>\n",
       "    <tr>\n",
       "      <th>Artist</th>\n",
       "      <th></th>\n",
       "      <th></th>\n",
       "    </tr>\n",
       "  </thead>\n",
       "  <tbody>\n",
       "    <tr>\n",
       "      <th>\"Fiddler On The Roof” Motion Picture Chorus</th>\n",
       "      <td>405</td>\n",
       "      <td>0.006750</td>\n",
       "    </tr>\n",
       "    <tr>\n",
       "      <th>$uicideBoy$</th>\n",
       "      <td>789</td>\n",
       "      <td>0.013150</td>\n",
       "    </tr>\n",
       "    <tr>\n",
       "      <th>'68</th>\n",
       "      <td>19783</td>\n",
       "      <td>0.329717</td>\n",
       "    </tr>\n",
       "    <tr>\n",
       "      <th>*NSYNC</th>\n",
       "      <td>121319</td>\n",
       "      <td>2.021983</td>\n",
       "    </tr>\n",
       "    <tr>\n",
       "      <th>10,000 Maniacs</th>\n",
       "      <td>406690</td>\n",
       "      <td>6.778167</td>\n",
       "    </tr>\n",
       "  </tbody>\n",
       "</table>\n",
       "</div>"
      ],
      "text/plain": [
       "                                             MS_played  Minutes_played\n",
       "Artist                                                                \n",
       "\"Fiddler On The Roof” Motion Picture Chorus        405        0.006750\n",
       "$uicideBoy$                                        789        0.013150\n",
       "'68                                              19783        0.329717\n",
       "*NSYNC                                          121319        2.021983\n",
       "10,000 Maniacs                                  406690        6.778167"
      ]
     },
     "execution_count": 15,
     "metadata": {},
     "output_type": "execute_result"
    }
   ],
   "source": [
    "# Combining artists to examine top artist\n",
    "top_artist_df = top_artist_df.groupby(['Artist']).sum()\n",
    "top_artist_df.head()"
   ]
  },
  {
   "cell_type": "code",
   "execution_count": 16,
   "metadata": {},
   "outputs": [],
   "source": [
    "# Sorting by most amount of time played\n",
    "top_artist_df = top_artist_df.sort_values(by=['MS_played'], ascending=False)"
   ]
  },
  {
   "cell_type": "code",
   "execution_count": 17,
   "metadata": {},
   "outputs": [
    {
     "data": {
      "text/html": [
       "<div>\n",
       "<style scoped>\n",
       "    .dataframe tbody tr th:only-of-type {\n",
       "        vertical-align: middle;\n",
       "    }\n",
       "\n",
       "    .dataframe tbody tr th {\n",
       "        vertical-align: top;\n",
       "    }\n",
       "\n",
       "    .dataframe thead th {\n",
       "        text-align: right;\n",
       "    }\n",
       "</style>\n",
       "<table border=\"1\" class=\"dataframe\">\n",
       "  <thead>\n",
       "    <tr style=\"text-align: right;\">\n",
       "      <th></th>\n",
       "      <th>MS_played</th>\n",
       "      <th>Minutes_played</th>\n",
       "    </tr>\n",
       "    <tr>\n",
       "      <th>Artist</th>\n",
       "      <th></th>\n",
       "      <th></th>\n",
       "    </tr>\n",
       "  </thead>\n",
       "  <tbody>\n",
       "    <tr>\n",
       "      <th>Brandi Carlile</th>\n",
       "      <td>70661468</td>\n",
       "      <td>1177.691133</td>\n",
       "    </tr>\n",
       "    <tr>\n",
       "      <th>The Beatles</th>\n",
       "      <td>66250117</td>\n",
       "      <td>1104.168617</td>\n",
       "    </tr>\n",
       "    <tr>\n",
       "      <th>Lady Gaga</th>\n",
       "      <td>59954909</td>\n",
       "      <td>999.248483</td>\n",
       "    </tr>\n",
       "    <tr>\n",
       "      <th>John Mayer</th>\n",
       "      <td>49401153</td>\n",
       "      <td>823.352550</td>\n",
       "    </tr>\n",
       "    <tr>\n",
       "      <th>Arctic Monkeys</th>\n",
       "      <td>45880709</td>\n",
       "      <td>764.678483</td>\n",
       "    </tr>\n",
       "  </tbody>\n",
       "</table>\n",
       "</div>"
      ],
      "text/plain": [
       "                MS_played  Minutes_played\n",
       "Artist                                   \n",
       "Brandi Carlile   70661468     1177.691133\n",
       "The Beatles      66250117     1104.168617\n",
       "Lady Gaga        59954909      999.248483\n",
       "John Mayer       49401153      823.352550\n",
       "Arctic Monkeys   45880709      764.678483"
      ]
     },
     "execution_count": 17,
     "metadata": {},
     "output_type": "execute_result"
    }
   ],
   "source": [
    "#Top 5 Spotify Artists \n",
    "top_5_df = top_artist_df.head()\n",
    "top_5_df"
   ]
  },
  {
   "cell_type": "code",
   "execution_count": 18,
   "metadata": {},
   "outputs": [],
   "source": [
    "# Duplicating a df to examine top tracks\n",
    "music_sum_df.head(15)\n",
    "top_tracks_df = music_sum_df"
   ]
  },
  {
   "cell_type": "code",
   "execution_count": 19,
   "metadata": {},
   "outputs": [
    {
     "data": {
      "text/html": [
       "<div>\n",
       "<style scoped>\n",
       "    .dataframe tbody tr th:only-of-type {\n",
       "        vertical-align: middle;\n",
       "    }\n",
       "\n",
       "    .dataframe tbody tr th {\n",
       "        vertical-align: top;\n",
       "    }\n",
       "\n",
       "    .dataframe thead th {\n",
       "        text-align: right;\n",
       "    }\n",
       "</style>\n",
       "<table border=\"1\" class=\"dataframe\">\n",
       "  <thead>\n",
       "    <tr style=\"text-align: right;\">\n",
       "      <th></th>\n",
       "      <th>Track</th>\n",
       "      <th>MS_played</th>\n",
       "    </tr>\n",
       "  </thead>\n",
       "  <tbody>\n",
       "    <tr>\n",
       "      <th>0</th>\n",
       "      <td>!!!!!!!</td>\n",
       "      <td>28270</td>\n",
       "    </tr>\n",
       "    <tr>\n",
       "      <th>1</th>\n",
       "      <td>\"Movin' On Up\"(Theme from the TV Series \"The J...</td>\n",
       "      <td>12693</td>\n",
       "    </tr>\n",
       "    <tr>\n",
       "      <th>2</th>\n",
       "      <td>#1 Crush - Nellee Hooper Mix</td>\n",
       "      <td>3715</td>\n",
       "    </tr>\n",
       "    <tr>\n",
       "      <th>3</th>\n",
       "      <td>$ave Dat Money (feat. Fetty Wap &amp; Rich Homie Q...</td>\n",
       "      <td>290835</td>\n",
       "    </tr>\n",
       "    <tr>\n",
       "      <th>4</th>\n",
       "      <td>&amp;Run</td>\n",
       "      <td>226587</td>\n",
       "    </tr>\n",
       "    <tr>\n",
       "      <th>5</th>\n",
       "      <td>'Deed I Do</td>\n",
       "      <td>981</td>\n",
       "    </tr>\n",
       "    <tr>\n",
       "      <th>6</th>\n",
       "      <td>'O Sole Mio</td>\n",
       "      <td>216986</td>\n",
       "    </tr>\n",
       "    <tr>\n",
       "      <th>7</th>\n",
       "      <td>'O sole mio</td>\n",
       "      <td>265340</td>\n",
       "    </tr>\n",
       "    <tr>\n",
       "      <th>8</th>\n",
       "      <td>'Till I Collapse</td>\n",
       "      <td>2020</td>\n",
       "    </tr>\n",
       "    <tr>\n",
       "      <th>9</th>\n",
       "      <td>(Don't Fear) The Reaper</td>\n",
       "      <td>2455216</td>\n",
       "    </tr>\n",
       "    <tr>\n",
       "      <th>10</th>\n",
       "      <td>(Don't Fear) The Reaper - Single Version</td>\n",
       "      <td>312039</td>\n",
       "    </tr>\n",
       "    <tr>\n",
       "      <th>11</th>\n",
       "      <td>(Everything I Do) I Do It For You</td>\n",
       "      <td>6342</td>\n",
       "    </tr>\n",
       "    <tr>\n",
       "      <th>12</th>\n",
       "      <td>(Fuck A) Silver Lining</td>\n",
       "      <td>23808</td>\n",
       "    </tr>\n",
       "    <tr>\n",
       "      <th>13</th>\n",
       "      <td>(Girl We Got A) Good Thing</td>\n",
       "      <td>205760</td>\n",
       "    </tr>\n",
       "    <tr>\n",
       "      <th>14</th>\n",
       "      <td>(I Can't Get No) Satisfaction - Mono Version</td>\n",
       "      <td>1191575</td>\n",
       "    </tr>\n",
       "  </tbody>\n",
       "</table>\n",
       "</div>"
      ],
      "text/plain": [
       "                                                Track  MS_played\n",
       "0                                             !!!!!!!      28270\n",
       "1   \"Movin' On Up\"(Theme from the TV Series \"The J...      12693\n",
       "2                        #1 Crush - Nellee Hooper Mix       3715\n",
       "3   $ave Dat Money (feat. Fetty Wap & Rich Homie Q...     290835\n",
       "4                                                &Run     226587\n",
       "5                                          'Deed I Do        981\n",
       "6                                         'O Sole Mio     216986\n",
       "7                                         'O sole mio     265340\n",
       "8                                    'Till I Collapse       2020\n",
       "9                             (Don't Fear) The Reaper    2455216\n",
       "10           (Don't Fear) The Reaper - Single Version     312039\n",
       "11                  (Everything I Do) I Do It For You       6342\n",
       "12                             (Fuck A) Silver Lining      23808\n",
       "13                         (Girl We Got A) Good Thing     205760\n",
       "14       (I Can't Get No) Satisfaction - Mono Version    1191575"
      ]
     },
     "execution_count": 19,
     "metadata": {},
     "output_type": "execute_result"
    }
   ],
   "source": [
    "# Combining exact duplicates of the same song\n",
    "top_tracks_df = top_tracks_df.groupby(['Track'], as_index=False).sum()\n",
    "top_tracks_df.head(15)"
   ]
  },
  {
   "cell_type": "code",
   "execution_count": 20,
   "metadata": {},
   "outputs": [
    {
     "data": {
      "text/html": [
       "<div>\n",
       "<style scoped>\n",
       "    .dataframe tbody tr th:only-of-type {\n",
       "        vertical-align: middle;\n",
       "    }\n",
       "\n",
       "    .dataframe tbody tr th {\n",
       "        vertical-align: top;\n",
       "    }\n",
       "\n",
       "    .dataframe thead th {\n",
       "        text-align: right;\n",
       "    }\n",
       "</style>\n",
       "<table border=\"1\" class=\"dataframe\">\n",
       "  <thead>\n",
       "    <tr style=\"text-align: right;\">\n",
       "      <th></th>\n",
       "      <th>Track</th>\n",
       "      <th>MS_played</th>\n",
       "    </tr>\n",
       "  </thead>\n",
       "  <tbody>\n",
       "    <tr>\n",
       "      <th>5177</th>\n",
       "      <td>Party Of One</td>\n",
       "      <td>15314972</td>\n",
       "    </tr>\n",
       "    <tr>\n",
       "      <th>1841</th>\n",
       "      <td>Drive Away</td>\n",
       "      <td>13445458</td>\n",
       "    </tr>\n",
       "    <tr>\n",
       "      <th>6078</th>\n",
       "      <td>Slow Dancing in a Burning Room</td>\n",
       "      <td>13099535</td>\n",
       "    </tr>\n",
       "    <tr>\n",
       "      <th>6889</th>\n",
       "      <td>The Story</td>\n",
       "      <td>12049994</td>\n",
       "    </tr>\n",
       "    <tr>\n",
       "      <th>8058</th>\n",
       "      <td>bad guy</td>\n",
       "      <td>11899285</td>\n",
       "    </tr>\n",
       "    <tr>\n",
       "      <th>434</th>\n",
       "      <td>Apocalypse</td>\n",
       "      <td>11776419</td>\n",
       "    </tr>\n",
       "    <tr>\n",
       "      <th>111</th>\n",
       "      <td>505</td>\n",
       "      <td>11332758</td>\n",
       "    </tr>\n",
       "    <tr>\n",
       "      <th>3951</th>\n",
       "      <td>Let Me Down Easy</td>\n",
       "      <td>9464298</td>\n",
       "    </tr>\n",
       "    <tr>\n",
       "      <th>641</th>\n",
       "      <td>Be My Mistake</td>\n",
       "      <td>8746794</td>\n",
       "    </tr>\n",
       "    <tr>\n",
       "      <th>4757</th>\n",
       "      <td>New Light</td>\n",
       "      <td>8672929</td>\n",
       "    </tr>\n",
       "  </tbody>\n",
       "</table>\n",
       "</div>"
      ],
      "text/plain": [
       "                               Track  MS_played\n",
       "5177                    Party Of One   15314972\n",
       "1841                      Drive Away   13445458\n",
       "6078  Slow Dancing in a Burning Room   13099535\n",
       "6889                       The Story   12049994\n",
       "8058                         bad guy   11899285\n",
       "434                       Apocalypse   11776419\n",
       "111                              505   11332758\n",
       "3951                Let Me Down Easy    9464298\n",
       "641                    Be My Mistake    8746794\n",
       "4757                       New Light    8672929"
      ]
     },
     "execution_count": 20,
     "metadata": {},
     "output_type": "execute_result"
    }
   ],
   "source": [
    "# Sorting Tracks by most longest played\n",
    "# Important to think about length of song itself, just because it had the most play TIME doesnt mean \n",
    "# that it was the most played\n",
    "\n",
    "top_tracks_df = top_tracks_df.sort_values(['MS_played'], ascending=False)\n",
    "top_tracks_df.head(10)"
   ]
  },
  {
   "cell_type": "code",
   "execution_count": 21,
   "metadata": {},
   "outputs": [
    {
     "data": {
      "text/html": [
       "<div>\n",
       "<style scoped>\n",
       "    .dataframe tbody tr th:only-of-type {\n",
       "        vertical-align: middle;\n",
       "    }\n",
       "\n",
       "    .dataframe tbody tr th {\n",
       "        vertical-align: top;\n",
       "    }\n",
       "\n",
       "    .dataframe thead th {\n",
       "        text-align: right;\n",
       "    }\n",
       "</style>\n",
       "<table border=\"1\" class=\"dataframe\">\n",
       "  <thead>\n",
       "    <tr style=\"text-align: right;\">\n",
       "      <th></th>\n",
       "      <th>artistName</th>\n",
       "      <th>endTime</th>\n",
       "      <th>msPlayed</th>\n",
       "      <th>trackName</th>\n",
       "    </tr>\n",
       "  </thead>\n",
       "  <tbody>\n",
       "    <tr>\n",
       "      <th>0</th>\n",
       "      <td>Sia</td>\n",
       "      <td>2018-12-07 01:20</td>\n",
       "      <td>151069</td>\n",
       "      <td>Elastic Heart - Live from The Village</td>\n",
       "    </tr>\n",
       "    <tr>\n",
       "      <th>1</th>\n",
       "      <td>Russ</td>\n",
       "      <td>2018-12-07 01:22</td>\n",
       "      <td>74443</td>\n",
       "      <td>Ride Slow</td>\n",
       "    </tr>\n",
       "    <tr>\n",
       "      <th>2</th>\n",
       "      <td>Nathaniel Rateliff &amp; The Night Sweats</td>\n",
       "      <td>2018-12-07 01:22</td>\n",
       "      <td>37546</td>\n",
       "      <td>S.O.B.</td>\n",
       "    </tr>\n",
       "    <tr>\n",
       "      <th>3</th>\n",
       "      <td>Lady Gaga</td>\n",
       "      <td>2018-12-07 01:26</td>\n",
       "      <td>220693</td>\n",
       "      <td>Teeth</td>\n",
       "    </tr>\n",
       "    <tr>\n",
       "      <th>4</th>\n",
       "      <td>Tyga</td>\n",
       "      <td>2018-12-07 01:27</td>\n",
       "      <td>56447</td>\n",
       "      <td>Taste (feat. Offset)</td>\n",
       "    </tr>\n",
       "  </tbody>\n",
       "</table>\n",
       "</div>"
      ],
      "text/plain": [
       "                              artistName           endTime  msPlayed  \\\n",
       "0                                    Sia  2018-12-07 01:20    151069   \n",
       "1                                   Russ  2018-12-07 01:22     74443   \n",
       "2  Nathaniel Rateliff & The Night Sweats  2018-12-07 01:22     37546   \n",
       "3                              Lady Gaga  2018-12-07 01:26    220693   \n",
       "4                                   Tyga  2018-12-07 01:27     56447   \n",
       "\n",
       "                               trackName  \n",
       "0  Elastic Heart - Live from The Village  \n",
       "1                              Ride Slow  \n",
       "2                                 S.O.B.  \n",
       "3                                  Teeth  \n",
       "4                   Taste (feat. Offset)  "
      ]
     },
     "execution_count": 21,
     "metadata": {},
     "output_type": "execute_result"
    }
   ],
   "source": [
    "all_music_df.head()"
   ]
  },
  {
   "cell_type": "code",
   "execution_count": 22,
   "metadata": {},
   "outputs": [
    {
     "data": {
      "text/plain": [
       "Slow Dancing in a Burning Room    92\n",
       "Party Of One                      80\n",
       "Apocalypse                        78\n",
       "bad guy                           76\n",
       "Golden Hour                       75\n",
       "The Story                         66\n",
       "Drive Away                        63\n",
       "Joanne                            61\n",
       "The Less I Know The Better        61\n",
       "1950                              60\n",
       "Name: trackName, dtype: int64"
      ]
     },
     "execution_count": 22,
     "metadata": {},
     "output_type": "execute_result"
    }
   ],
   "source": [
    "# Amount of times my top 10 song were played (not neccesarily played all the way through)\n",
    "play_freq_df = all_music_df['trackName'].value_counts()\n",
    "play_freq_df.head(10)"
   ]
  },
  {
   "cell_type": "code",
   "execution_count": 23,
   "metadata": {},
   "outputs": [],
   "source": [
    "# Taking OG data set and isolating the date on the play stamp\n",
    "# endTime column shows what date the song was played and at what time it ended\n",
    "\n",
    "date_trends_df = all_music_df\n",
    "play_stamp = date_trends_df[\"endTime\"].str.split(\" \", n = 1, expand = True) \n",
    "date_trends_df[\"Date_played\"] = play_stamp[0]\n",
    "date_trends_df.drop(columns= [\"endTime\"], inplace=True)"
   ]
  },
  {
   "cell_type": "code",
   "execution_count": 26,
   "metadata": {},
   "outputs": [],
   "source": [
    "# Creating new df date_time to examing amount of time listened by date\n",
    "date_time_df = date_trends_df\n",
    "date_time_df.drop(columns = ['artistName','trackName'], inplace=True)"
   ]
  },
  {
   "cell_type": "code",
   "execution_count": 27,
   "metadata": {},
   "outputs": [],
   "source": [
    "# Converting time column from ms to mins\n",
    "date_time_df[\"Minutes_played\"] = date_time_df[\"msPlayed\"]/60000"
   ]
  },
  {
   "cell_type": "code",
   "execution_count": 28,
   "metadata": {},
   "outputs": [],
   "source": [
    "# Creating minutes column and rounding to first decimal\n",
    "date_time_df[\"Minutes_played\"] = date_time_df[\"Minutes_played\"].round(1)\n",
    "date_time_df.drop(columns =['msPlayed'], inplace=True)"
   ]
  },
  {
   "cell_type": "code",
   "execution_count": 29,
   "metadata": {},
   "outputs": [],
   "source": [
    "# Splitting date to individual parts and combining only month and year\n",
    "split_date = date_time_df[\"Date_played\"].str.split(\"-\", n = 2, expand = True) \n",
    "#split_date.head()\n",
    "date_time_df[\"Dates\"] = split_date[1].map(str) + \"-\" + split_date[0]\n",
    "#date_time_df.head()\n",
    "date_time_df = date_time_df.drop(columns =[\"Date_played\"])"
   ]
  },
  {
   "cell_type": "code",
   "execution_count": 30,
   "metadata": {},
   "outputs": [],
   "source": [
    "# Grouping all dates into individual months and finding total time listened/month\n",
    "date_time_df = date_time_df.groupby(['Dates'], as_index=False).sum()"
   ]
  },
  {
   "cell_type": "code",
   "execution_count": 31,
   "metadata": {},
   "outputs": [],
   "source": [
    "# Re-ordering dataframe \n",
    "date_time_df = date_time_df.iloc[[11, 0, 1, 2, 3, 4, 5, 6, 7, 8, 9, 10, 12]]"
   ]
  },
  {
   "cell_type": "code",
   "execution_count": 32,
   "metadata": {},
   "outputs": [
    {
     "data": {
      "image/png": "[encoded data removed]",
      "text/plain": [
       "<Figure size 864x576 with 1 Axes>"
      ]
     },
     "metadata": {
      "needs_background": "light"
     },
     "output_type": "display_data"
    }
   ],
   "source": [
    "# Graph displaying minutes of spotify listened to per month for 2019\n",
    "plt.figure(figsize = (12, 8))\n",
    "time_listened_plot = sns.barplot(x = date_time_df[\"Dates\"] , y = date_time_df[\"Minutes_played\"])"
   ]
  },
  {
   "cell_type": "code",
   "execution_count": null,
   "metadata": {},
   "outputs": [],
   "source": []
  },
  {
   "cell_type": "code",
   "execution_count": null,
   "metadata": {},
   "outputs": [],
   "source": []
  },
  {
   "cell_type": "code",
   "execution_count": null,
   "metadata": {},
   "outputs": [],
   "source": []
  }
 ],
 "metadata": {
  "kernelspec": {
   "display_name": "Python 3",
   "language": "python",
   "name": "python3"
  },
  "language_info": {
   "codemirror_mode": {
    "name": "ipython",
    "version": 3
   },
   "file_extension": ".py",
   "mimetype": "text/x-python",
   "name": "python",
   "nbconvert_exporter": "python",
   "pygments_lexer": "ipython3",
   "version": "3.7.0"
  }
 },
 "nbformat": 4,
 "nbformat_minor": 2
}
